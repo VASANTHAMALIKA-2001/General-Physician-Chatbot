{
  "nbformat": 4,
  "nbformat_minor": 0,
  "metadata": {
    "colab": {
      "name": "General-Physician-Chatbot.ipynb",
      "provenance": [],
      "collapsed_sections": [],
      "authorship_tag": "ABX9TyPHDcp33ZVC1s9XrL7zYx+Z",
      "include_colab_link": true
    },
    "kernelspec": {
      "name": "python3",
      "display_name": "Python 3"
    },
    "language_info": {
      "name": "python"
    }
  },
  "cells": [
    {
      "cell_type": "markdown",
      "metadata": {
        "id": "view-in-github",
        "colab_type": "text"
      },
      "source": [
        "<a href=\"https://colab.research.google.com/github/VASANTHAMALIKA-2001/General-Physician-Chatbot/blob/main/General_Physician_Chatbot.ipynb\" target=\"_parent\"><img src=\"https://colab.research.google.com/assets/colab-badge.svg\" alt=\"Open In Colab\"/></a>"
      ]
    },
    {
      "cell_type": "code",
      "metadata": {
        "id": "X4H-kC9p-5Ax",
        "colab": {
          "base_uri": "https://localhost:8080/"
        },
        "outputId": "42ea79fd-673d-42c5-84ac-87441c174a3d"
      },
      "source": [
        "!git clone \"https://github.com/VASANTHAMALIKA-2001/General-Physician-Chatbot.git\""
      ],
      "execution_count": 14,
      "outputs": [
        {
          "output_type": "stream",
          "text": [
            "fatal: destination path 'General-Physician-Chatbot' already exists and is not an empty directory.\n"
          ],
          "name": "stdout"
        }
      ]
    },
    {
      "cell_type": "code",
      "metadata": {
        "id": "FqxpPbceX0T9"
      },
      "source": [
        "import numpy as np\n",
        "import matplotlib.pyplot as plt\n",
        "import pandas as pd\n",
        "import os"
      ],
      "execution_count": 15,
      "outputs": []
    },
    {
      "cell_type": "code",
      "metadata": {
        "id": "feaVJb4SYJj2"
      },
      "source": [
        "training_dataset = pd.read_csv(\"/content/General-Physician-Chatbot/DATASET/Training.csv\")\n",
        "testing_dataset=pd.read_csv(\"/content/General-Physician-Chatbot/DATASET/Testing.csv\")"
      ],
      "execution_count": 16,
      "outputs": []
    },
    {
      "cell_type": "code",
      "metadata": {
        "id": "BW3yMsGHYhnf"
      },
      "source": [
        "X = training_dataset.iloc[:, 0:132].values\n",
        "y = training_dataset.iloc[:, -1].values"
      ],
      "execution_count": 17,
      "outputs": []
    },
    {
      "cell_type": "code",
      "metadata": {
        "id": "wmHIRvM-YjsD"
      },
      "source": [
        "dimensionality_reduction = training_dataset.groupby(training_dataset['prognosis']).max()"
      ],
      "execution_count": 18,
      "outputs": []
    },
    {
      "cell_type": "code",
      "metadata": {
        "id": "_LK-RG2qYnFi"
      },
      "source": [
        "from sklearn.preprocessing import LabelEncoder\n",
        "labelencoder = LabelEncoder()\n",
        "y = labelencoder.fit_transform(y)\n",
        " \n",
        "# Splitting the dataset into training set and test set\n",
        "from sklearn.model_selection import train_test_split\n",
        "X_train, X_test, y_train, y_test = train_test_split(X, y, test_size = 0.25, random_state = 0)\n",
        " \n",
        "# Implementing the Decision Tree Classifier\n",
        "from sklearn.tree import DecisionTreeClassifier\n",
        "classifier = DecisionTreeClassifier()\n",
        "classifier.fit(X_train, y_train)\n",
        " \n",
        "# Saving the information of columns\n",
        "cols     = training_dataset.columns\n",
        "cols     = cols[:-1]\n",
        " \n",
        " \n",
        "# Checking the Important features\n",
        "importances = classifier.feature_importances_\n",
        "indices = np.argsort(importances)[::-1]\n",
        "features = cols\n",
        " \n",
        "# Implementing the Visual Tree\n",
        "from sklearn.tree import _tree\n",
        " \n",
        "# Method to simulate the working of a Chatbot by extracting and formulating questions\n",
        "def execute_bot():\n",
        " \n",
        "    print(\"Please reply with yes/Yes or no/No for the following symptoms\") \n",
        "    def print_disease(node):\n",
        "        #print(node)\n",
        "        node = node[0]\n",
        "        #print(len(node))\n",
        "        val  = node.nonzero() \n",
        "        #print(val)\n",
        "        disease = labelencoder.inverse_transform(val[0])\n",
        "        return disease\n",
        "    def tree_to_code(tree, feature_names):\n",
        "        tree_ = tree.tree_\n",
        "        #print(tree_)\n",
        "        feature_name = [\n",
        "            feature_names[i] if i != _tree.TREE_UNDEFINED else \"undefined!\"\n",
        "            for i in tree_.feature\n",
        "        ]\n",
        "        #print(\"def tree({}):\".format(\", \".join(feature_names)))\n",
        "        symptoms_present = []\n",
        "        def recurse(node, depth):\n",
        "            indent = \"  \" * depth\n",
        "            if tree_.feature[node] != _tree.TREE_UNDEFINED:\n",
        "                name = feature_name[node]\n",
        "                threshold = tree_.threshold[node]\n",
        "                print(name + \" ?\")\n",
        "                ans = input()\n",
        "                ans = ans.lower()\n",
        "                if ans == 'yes':\n",
        "                    val = 1\n",
        "                else:\n",
        "                    val = 0\n",
        "                if  val <= threshold:\n",
        "                    recurse(tree_.children_left[node], depth + 1)\n",
        "                else:\n",
        "                    symptoms_present.append(name)\n",
        "                    recurse(tree_.children_right[node], depth + 1)\n",
        "            else:\n",
        "                present_disease = print_disease(tree_.value[node])\n",
        "                print( \"You may have \" +  present_disease )\n",
        "                red_cols = dimensionality_reduction.columns \n",
        "                symptoms_given = red_cols[dimensionality_reduction.loc[present_disease].values[0].nonzero()]\n",
        "                print(\"symptoms present  \" + str(list(symptoms_present)))\n",
        "                print(\"symptoms given \"  +  str(list(symptoms_given)) )  \n",
        "                confidence_level = (1.0*len(symptoms_present))/len(symptoms_given)\n",
        "                print(\"confidence level is \" + str(confidence_level))\n",
        "    \n",
        "        recurse(0, 1)\n",
        "    \n",
        "    tree_to_code(classifier,cols)\n",
        " "
      ],
      "execution_count": 19,
      "outputs": []
    },
    {
      "cell_type": "code",
      "metadata": {
        "colab": {
          "base_uri": "https://localhost:8080/"
        },
        "id": "7eLAFPTvYt4o",
        "outputId": "3562fdcc-2006-42ed-aebb-ec16137e58b3"
      },
      "source": [
        "execute_bot()"
      ],
      "execution_count": 20,
      "outputs": [
        {
          "output_type": "stream",
          "text": [
            "Please reply with yes/Yes or no/No for the following symptoms\n",
            "slurred_speech ?\n",
            "no\n",
            "pain_behind_the_eyes ?\n",
            "yes\n",
            "['You may have Dengue']\n",
            "symptoms present  ['pain_behind_the_eyes']\n",
            "symptoms given ['skin_rash', 'chills', 'joint_pain', 'vomiting', 'fatigue', 'high_fever', 'headache', 'nausea', 'loss_of_appetite', 'pain_behind_the_eyes', 'back_pain', 'malaise', 'muscle_pain', 'red_spots_over_body']\n",
            "confidence level is 0.07142857142857142\n"
          ],
          "name": "stdout"
        }
      ]
    }
  ]
}